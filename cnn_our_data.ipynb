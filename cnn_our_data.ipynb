{
 "cells": [
  {
   "cell_type": "code",
   "execution_count": 6,
   "id": "d7c32f9f",
   "metadata": {},
   "outputs": [],
   "source": [
    "import pandas as pd\n",
    "import numpy as np\n",
    "np.set_printoptions(precision=10, suppress=True)\n",
    "\n",
    "import matplotlib.pyplot as plt\n",
    "import tensorflow as tf\n",
    "from tensorflow.keras.regularizers import l2, l1\n",
    "from tensorflow.keras.models import Sequential\n",
    "from keras.layers import Dense, Flatten, Convolution1D\n",
    "from tensorflow.keras import layers\n",
    "from tensorflow.keras.layers.experimental import preprocessing\n",
    "from sklearn.impute import SimpleImputer\n",
    "from sklearn.preprocessing import StandardScaler\n",
    "from sklearn.model_selection import train_test_split"
   ]
  },
  {
   "cell_type": "code",
   "execution_count": 7,
   "id": "9cdd57be",
   "metadata": {},
   "outputs": [],
   "source": [
    "def miss_val_fixer(data):\n",
    "    imp = SimpleImputer(missing_values=np.nan,strategy='mean',verbose=0)\n",
    "    imp = imp.fit(data)\n",
    "    fixed_data = imp.transform(data)\n",
    "    return fixed_data\n",
    "\n",
    "def standardize(train,valid):\n",
    "    scaler = StandardScaler()\n",
    "    std_train = scaler.fit_transform(train)\n",
    "    std_valid = scaler.transform(valid)\n",
    "    return std_train,std_valid\n"
   ]
  },
  {
   "cell_type": "code",
   "execution_count": 8,
   "id": "b198303d",
   "metadata": {},
   "outputs": [],
   "source": [
    "# dataset\n",
    "dataset = pd.read_csv(\"SMRT_train.csv\",nrows=60000,low_memory=False)\n",
    "dataset = miss_val_fixer(dataset)\n",
    "data = dataset[:,2:]\n",
    "train_set, test_set = train_test_split(data, test_size=0.25, random_state=42)\n",
    "\n",
    "\n",
    "train_X, test_X = standardize(train_set[:,:-1],test_set[:,:-1])\n",
    "train_Y = train_set[:,-1]/10\n",
    "test_Y = test_set[:,-1]/10\n",
    "\n",
    "train_X = np.expand_dims(train_X, axis=1)\n",
    "test_X = np.expand_dims(test_X, axis=1)"
   ]
  },
  {
   "cell_type": "code",
   "execution_count": 4,
   "id": "f71bdbc4",
   "metadata": {},
   "outputs": [
    {
     "data": {
      "text/plain": [
       "(60000, 1579)"
      ]
     },
     "execution_count": 4,
     "metadata": {},
     "output_type": "execute_result"
    }
   ],
   "source": [
    "dataset.shape"
   ]
  },
  {
   "cell_type": "code",
   "execution_count": null,
   "id": "34390b69",
   "metadata": {},
   "outputs": [],
   "source": [
    "model = tf.keras.models.Sequential([\n",
    "#    layers.Conv1D(filters=64, kernel_size=8, padding='same', activation=\"relu\", kernel_regularizer=l2(0.0001),input_shape=(train_X.shape[1:])),\n",
    "#    layers.MaxPooling1D(padding='same'),\n",
    "#    layers.Conv1D(filters=128, kernel_size=6, padding='same', activation=\"relu\", kernel_regularizer=l2(0.0001),input_shape=(train_X.shape[1:])),\n",
    "#    layers.MaxPooling1D(padding='same'),\n",
    "#    layers.Conv1D(filters=256, kernel_size=3, padding='same', activation=\"relu\", kernel_regularizer=l2(0.0001),input_shape=(train_X.shape[1:])),\n",
    "#    layers.MaxPooling1D(padding='same'),\n",
    "#    layers.Flatten(),\n",
    "    layers.Dense(500 , activation=\"relu\",kernel_regularizer=l2(0.0001)),#kernel_initializer=\"he_normal\", input_shape=train_X.shape[1:]),\n",
    "    layers.Dense(200 , activation=\"relu\",kernel_regularizer=l2(0.0001)),# kernel_initializer=\"he_normal\",input_shape=(8,32)),\n",
    "    layers.Dense(100 , activation=\"relu\",kernel_regularizer=l2(0.0001)),# kernel_initializer=\"he_normal\",input_shape=train_X.shape[1:]),#\n",
    "    layers.Dense(50  , activation=\"relu\",kernel_regularizer=l2(0.0001)),# kernel_initializer=\"he_normal\",input_shape=train_X.shape[1:]),#\n",
    "    layers.Dense(20  , activation=\"relu\",kernel_regularizer=l2(0.0001)),# kernel_initializer=\"he_normal\",input_shape=train_X.shape[1:]),#\n",
    "    layers.Dense(1)])#,kernel_initializer=\"he_normal\")])\n"
   ]
  },
  {
   "cell_type": "code",
   "execution_count": null,
   "id": "06047353",
   "metadata": {},
   "outputs": [],
   "source": [
    "opt = tf.keras.optimizers.Adam(learning_rate=0.0001)\n",
    "model.compile(loss=\"mean_squared_error\", optimizer=opt,metrics=['mae'])\n",
    "history = model.fit(train_X,train_Y, validation_data=(test_X,test_Y),epochs=20,batch_size = 35, shuffle=True)"
   ]
  },
  {
   "cell_type": "code",
   "execution_count": null,
   "id": "ba423df1",
   "metadata": {},
   "outputs": [],
   "source": [
    "plt.scatter(model.predict(train_X),train_Y)\n",
    "plt.xlabel(\"Prediction\")\n",
    "plt.ylabel(\"train Y\")\n",
    "plt.show()"
   ]
  },
  {
   "cell_type": "code",
   "execution_count": null,
   "id": "c9cd1fbf",
   "metadata": {},
   "outputs": [],
   "source": [
    "plt.scatter(model.predict(test_X),test_Y)\n",
    "plt.xlabel(\"Prediction\")\n",
    "plt.ylabel(\"test Y\")\n",
    "plt.show()"
   ]
  },
  {
   "cell_type": "code",
   "execution_count": null,
   "id": "a984ecd8",
   "metadata": {},
   "outputs": [],
   "source": [
    "opt = tf.keras.optimizers.Adam(learning_rate=0.0001)\n",
    "model.compile(loss=\"mean_squared_error\", optimizer=opt,metrics=['mae'])\n",
    "history_1 = model.fit(train_X,train_Y, validation_data=(test_X,test_Y),epochs=20,batch_size = 35, shuffle=True)"
   ]
  },
  {
   "cell_type": "code",
   "execution_count": null,
   "id": "ce811122",
   "metadata": {},
   "outputs": [],
   "source": [
    "plt.scatter(model.predict(train_X),train_Y)\n",
    "plt.xlabel(\"Prediction\")\n",
    "plt.ylabel(\"train Y\")\n",
    "plt.show()"
   ]
  },
  {
   "cell_type": "code",
   "execution_count": null,
   "id": "52951b47",
   "metadata": {},
   "outputs": [],
   "source": [
    "plt.scatter(model.predict(test_X),test_Y)\n",
    "plt.xlabel(\"Prediction\")\n",
    "plt.ylabel(\"test Y\")\n",
    "plt.show()"
   ]
  },
  {
   "cell_type": "code",
   "execution_count": null,
   "id": "655822cd",
   "metadata": {
    "scrolled": true
   },
   "outputs": [],
   "source": [
    "opt = tf.keras.optimizers.Adam(learning_rate=0.001)\n",
    "model.compile(loss=\"mean_squared_error\", optimizer=opt,metrics=['mae'])\n",
    "history_1 = model.fit(train_X,train_Y, validation_data=(test_X,test_Y),epochs=20,batch_size = 35, shuffle=True)"
   ]
  },
  {
   "cell_type": "code",
   "execution_count": null,
   "id": "29d66af7",
   "metadata": {},
   "outputs": [],
   "source": [
    "plt.scatter(model.predict(train_X),train_Y)\n",
    "plt.xlabel(\"Prediction\")\n",
    "plt.ylabel(\"train Y\")\n",
    "plt.show()"
   ]
  },
  {
   "cell_type": "code",
   "execution_count": null,
   "id": "b7fdea32",
   "metadata": {},
   "outputs": [],
   "source": [
    "plt.scatter(model.predict(test_X),test_Y)\n",
    "plt.xlabel(\"Prediction\")\n",
    "plt.ylabel(\"test Y\")\n",
    "plt.show()"
   ]
  },
  {
   "cell_type": "code",
   "execution_count": null,
   "id": "b4303e1d",
   "metadata": {},
   "outputs": [],
   "source": [
    "model = tf.keras.models.Sequential([\n",
    "    layers.Conv1D(filters=16, kernel_size=3, padding='same', activation=\"relu\", kernel_regularizer=l2(0.0001),input_shape=(train_X.shape[1:])),\n",
    "    layers.Conv1D(filters=16, kernel_size=3, padding='same', activation=\"relu\", kernel_regularizer=l2(0.0001)),\n",
    "    layers.Conv1D(filters=16, kernel_size=3, padding='same', activation=\"relu\", kernel_regularizer=l2(0.0001)),\n",
    "    layers.MaxPooling1D(padding='same'),\n",
    "    layers.Flatten(),\n",
    "#    layers.Dense(1000 , activation=\"relu\",kernel_regularizer=l2(0.0001)),#kernel_initializer=\"he_normal\", input_shape=train_X.shape[1:]),\n",
    "    layers.Dense(500 , activation=\"relu\",kernel_regularizer=l2(0.0001)),#kernel_initializer=\"he_normal\", input_shape=train_X.shape[1:]),\n",
    "    layers.Dense(200 , activation=\"relu\",kernel_regularizer=l2(0.0001)),# kernel_initializer=\"he_normal\",input_shape=(8,32)),\n",
    "    layers.Dense(100 , activation=\"relu\",kernel_regularizer=l2(0.0001)),# kernel_initializer=\"he_normal\",input_shape=train_X.shape[1:]),#\n",
    "##    layers.Dense(75  , activation=\"relu\",kernel_regularizer=l2(0.0001)),# kernel_initializer=\"he_normal\",input_shape=train_X.shape[1:]),#\n",
    "    layers.Dense(50  , activation=\"relu\",kernel_regularizer=l2(0.0001)),# kernel_initializer=\"he_normal\",input_shape=train_X.shape[1:]),#\n",
    "    layers.Dense(20  , activation=\"relu\",kernel_regularizer=l2(0.0001)),# kernel_initializer=\"he_normal\",input_shape=train_X.shape[1:]),#\n",
    "    layers.Dense(1)])#,kernel_initializer=\"he_normal\")])\n"
   ]
  },
  {
   "cell_type": "code",
   "execution_count": null,
   "id": "8a9853c6",
   "metadata": {},
   "outputs": [],
   "source": [
    "opt = tf.keras.optimizers.Adam(learning_rate=0.0001)\n",
    "model.compile(loss=\"mean_squared_error\", optimizer=opt,metrics=['mae'])\n",
    "history_1 = model.fit(train_X,train_Y, validation_data=(test_X,test_Y),epochs=20,batch_size = 35, shuffle=True)"
   ]
  },
  {
   "cell_type": "code",
   "execution_count": null,
   "id": "2102e8e6",
   "metadata": {},
   "outputs": [],
   "source": [
    "plt.scatter(model.predict(train_X),train_Y)\n",
    "plt.xlabel(\"Prediction\")\n",
    "plt.ylabel(\"train Y\")\n",
    "plt.show()"
   ]
  },
  {
   "cell_type": "code",
   "execution_count": null,
   "id": "d0de2607",
   "metadata": {},
   "outputs": [],
   "source": [
    "plt.scatter(model.predict(test_X),test_Y)\n",
    "plt.xlabel(\"Prediction\")\n",
    "plt.ylabel(\"test Y\")\n",
    "plt.show()"
   ]
  },
  {
   "cell_type": "code",
   "execution_count": null,
   "id": "78a4dec5",
   "metadata": {},
   "outputs": [],
   "source": [
    "model = tf.keras.models.Sequential([\n",
    "    layers.Conv1D(filters=8, kernel_size=3, padding='same', activation=\"relu\", kernel_regularizer=l2(0.0001),input_shape=(train_X.shape[1:])),\n",
    "    layers.Conv1D(filters=8, kernel_size=3, padding='same', activation=\"relu\", kernel_regularizer=l2(0.0001)),\n",
    "    layers.Conv1D(filters=8, kernel_size=3, padding='same', activation=\"relu\", kernel_regularizer=l2(0.0001)),\n",
    "    layers.MaxPooling1D(padding='same'),\n",
    "    layers.Flatten(),\n",
    "#    layers.Dense(1000 , activation=\"relu\",kernel_regularizer=l2(0.0001)),#kernel_initializer=\"he_normal\", input_shape=train_X.shape[1:]),\n",
    "    layers.Dense(500 , activation=\"relu\",kernel_regularizer=l2(0.0001)),#kernel_initializer=\"he_normal\", input_shape=train_X.shape[1:]),\n",
    "    layers.Dense(200 , activation=\"relu\",kernel_regularizer=l2(0.0001)),# kernel_initializer=\"he_normal\",input_shape=(8,32)),\n",
    "    layers.Dense(100 , activation=\"relu\",kernel_regularizer=l2(0.0001)),# kernel_initializer=\"he_normal\",input_shape=train_X.shape[1:]),#\n",
    "##    layers.Dense(75  , activation=\"relu\",kernel_regularizer=l2(0.0001)),# kernel_initializer=\"he_normal\",input_shape=train_X.shape[1:]),#\n",
    "    layers.Dense(50  , activation=\"relu\",kernel_regularizer=l2(0.0001)),# kernel_initializer=\"he_normal\",input_shape=train_X.shape[1:]),#\n",
    "    layers.Dense(20  , activation=\"relu\",kernel_regularizer=l2(0.0001)),# kernel_initializer=\"he_normal\",input_shape=train_X.shape[1:]),#\n",
    "    layers.Dense(1)])#,kernel_initializer=\"he_normal\")])\n"
   ]
  },
  {
   "cell_type": "code",
   "execution_count": null,
   "id": "db435c25",
   "metadata": {},
   "outputs": [],
   "source": [
    "opt = tf.keras.optimizers.Adam(learning_rate=0.0001)\n",
    "model.compile(loss=\"mean_squared_error\", optimizer=opt,metrics=['mae'])\n",
    "history_1 = model.fit(train_X,train_Y, validation_data=(test_X,test_Y),epochs=20,batch_size = 35, shuffle=True)"
   ]
  },
  {
   "cell_type": "code",
   "execution_count": null,
   "id": "77667b62",
   "metadata": {},
   "outputs": [],
   "source": [
    "plt.scatter(model.predict(train_X),train_Y)\n",
    "plt.xlabel(\"Prediction\")\n",
    "plt.ylabel(\"train Y\")\n",
    "plt.show()"
   ]
  },
  {
   "cell_type": "code",
   "execution_count": null,
   "id": "37b794a0",
   "metadata": {},
   "outputs": [],
   "source": [
    "plt.scatter(model.predict(train_X),train_Y)\n",
    "plt.xlabel(\"Prediction\")\n",
    "plt.ylabel(\"train Y\")\n",
    "plt.show()"
   ]
  },
  {
   "cell_type": "code",
   "execution_count": null,
   "id": "1fe1dba1",
   "metadata": {},
   "outputs": [],
   "source": [
    "model = tf.keras.models.Sequential([\n",
    "    layers.Conv1D(filters=8, kernel_size=4, padding='same', activation=\"relu\", kernel_regularizer=l2(0.0001),input_shape=(train_X.shape[1:])),\n",
    "    layers.Conv1D(filters=8, kernel_size=4, padding='same', activation=\"relu\", kernel_regularizer=l2(0.0001)),\n",
    "    layers.Conv1D(filters=8, kernel_size=4, padding='same', activation=\"relu\", kernel_regularizer=l2(0.0001)),\n",
    "    layers.MaxPooling1D(padding='same'),\n",
    "    layers.Flatten(),\n",
    "#    layers.Dense(1000 , activation=\"relu\",kernel_regularizer=l2(0.0001)),#kernel_initializer=\"he_normal\", input_shape=train_X.shape[1:]),\n",
    "    layers.Dense(500 , activation=\"relu\",kernel_regularizer=l2(0.0001)),#kernel_initializer=\"he_normal\", input_shape=train_X.shape[1:]),\n",
    "    layers.Dense(200 , activation=\"relu\",kernel_regularizer=l2(0.0001)),# kernel_initializer=\"he_normal\",input_shape=(8,32)),\n",
    "    layers.Dense(100 , activation=\"relu\",kernel_regularizer=l2(0.0001)),# kernel_initializer=\"he_normal\",input_shape=train_X.shape[1:]),#\n",
    "##    layers.Dense(75  , activation=\"relu\",kernel_regularizer=l2(0.0001)),# kernel_initializer=\"he_normal\",input_shape=train_X.shape[1:]),#\n",
    "    layers.Dense(50  , activation=\"relu\",kernel_regularizer=l2(0.0001)),# kernel_initializer=\"he_normal\",input_shape=train_X.shape[1:]),#\n",
    "    layers.Dense(20  , activation=\"relu\",kernel_regularizer=l2(0.0001)),# kernel_initializer=\"he_normal\",input_shape=train_X.shape[1:]),#\n",
    "    layers.Dense(1)])#,kernel_initializer=\"he_normal\")])\n"
   ]
  },
  {
   "cell_type": "code",
   "execution_count": null,
   "id": "085fc74d",
   "metadata": {},
   "outputs": [],
   "source": [
    "opt = tf.keras.optimizers.Adam(learning_rate=0.0001)\n",
    "model.compile(loss=\"mean_squared_error\", optimizer=opt,metrics=['mae'])\n",
    "history = model.fit(train_X,train_Y, validation_data=(test_X,test_Y),epochs=20,batch_size = 35, shuffle=True)"
   ]
  },
  {
   "cell_type": "code",
   "execution_count": null,
   "id": "a3ebae5e",
   "metadata": {},
   "outputs": [],
   "source": [
    "plt.scatter(model.predict(train_X),train_Y)\n",
    "plt.xlabel(\"Prediction\")\n",
    "plt.ylabel(\"train Y\")\n",
    "plt.show()"
   ]
  },
  {
   "cell_type": "code",
   "execution_count": null,
   "id": "ecae4342",
   "metadata": {},
   "outputs": [],
   "source": [
    "plt.scatter(model.predict(train_X),train_Y)\n",
    "plt.xlabel(\"Prediction\")\n",
    "plt.ylabel(\"train Y\")\n",
    "plt.show()"
   ]
  },
  {
   "cell_type": "code",
   "execution_count": null,
   "id": "a6dcef48",
   "metadata": {},
   "outputs": [],
   "source": [
    "model = tf.keras.models.Sequential([\n",
    "    layers.Conv1D(filters=16, kernel_size=3, padding='same', kernel_regularizer=l2(0.0001),input_shape=(train_X.shape[1:])),\n",
    "    layers.Conv1D(filters=16, kernel_size=3, padding='same', kernel_regularizer=l2(0.0001)),\n",
    "    layers.Conv1D(filters=8, kernel_size=3, padding='same', kernel_regularizer=l2(0.0001)),\n",
    "    layers.MaxPooling1D(padding='same'),\n",
    "    layers.Flatten(),\n",
    "#    layers.Dense(1000 , activation=\"relu\",kernel_regularizer=l2(0.0001)),#kernel_initializer=\"he_normal\", input_shape=train_X.shape[1:]),\n",
    "    layers.Dense(500 , activation=\"relu\",kernel_regularizer=l2(0.0001)),#kernel_initializer=\"he_normal\", input_shape=train_X.shape[1:]),\n",
    "    layers.Dense(200 , activation=\"relu\",kernel_regularizer=l2(0.0001)),# kernel_initializer=\"he_normal\",input_shape=(8,32)),\n",
    "    layers.Dense(100 , activation=\"relu\",kernel_regularizer=l2(0.0001)),# kernel_initializer=\"he_normal\",input_shape=train_X.shape[1:]),#\n",
    "#    layers.Dense(75  , activation=\"relu\",kernel_regularizer=l2(0.0001)),# kernel_initializer=\"he_normal\",input_shape=train_X.shape[1:]),#\n",
    "    layers.Dense(50  , activation=\"relu\",kernel_regularizer=l2(0.0001)),# kernel_initializer=\"he_normal\",input_shape=train_X.shape[1:]),#\n",
    "    layers.Dense(20  , activation=\"relu\",kernel_regularizer=l2(0.0001)),# kernel_initializer=\"he_normal\",input_shape=train_X.shape[1:]),#\n",
    "    layers.Dense(1)])#,kernel_initializer=\"he_normal\")])\n"
   ]
  },
  {
   "cell_type": "code",
   "execution_count": null,
   "id": "e3ec4222",
   "metadata": {
    "scrolled": true
   },
   "outputs": [],
   "source": [
    "opt = tf.keras.optimizers.Adam(learning_rate=0.0001)\n",
    "model.compile(loss=\"mean_squared_error\", optimizer=opt,metrics=['mae'])\n",
    "history = model.fit(train_X,train_Y, validation_data=(test_X,test_Y),epochs=20,batch_size = 35, shuffle=True)"
   ]
  },
  {
   "cell_type": "code",
   "execution_count": null,
   "id": "c770f9e7",
   "metadata": {},
   "outputs": [],
   "source": [
    "plt.scatter(model.predict(train_X),train_Y)\n",
    "plt.xlabel(\"Prediction\")\n",
    "plt.ylabel(\"train Y\")\n",
    "plt.show()"
   ]
  },
  {
   "cell_type": "code",
   "execution_count": null,
   "id": "3a315da3",
   "metadata": {},
   "outputs": [],
   "source": [
    "plt.scatter(model.predict(test_X),test_Y)\n",
    "plt.xlabel(\"Prediction\")\n",
    "plt.ylabel(\"test Y\")\n",
    "plt.show()"
   ]
  },
  {
   "cell_type": "code",
   "execution_count": null,
   "id": "a43fbfd3",
   "metadata": {},
   "outputs": [],
   "source": [
    "model = tf.keras.models.Sequential([\n",
    "#    layers.Conv1D(filters=16, kernel_size=4, padding='same', activation=\"relu\", kernel_regularizer=l2(0.0001),input_shape=(train_X.shape[1:])),\n",
    "    layers.Conv1D(filters=16, kernel_size=3, padding='same', activation=\"relu\", kernel_regularizer=l2(0.0001)),\n",
    "    layers.Conv1D(filters=8, kernel_size=3, padding='same', activation=\"relu\", kernel_regularizer=l2(0.0001)),\n",
    "    layers.Conv1D(filters=8, kernel_size=3, padding='same', activation=\"relu\", kernel_regularizer=l2(0.0001)),\n",
    "    layers.MaxPooling1D(padding='same'),\n",
    "    layers.Flatten(),\n",
    "#    layers.Dense(1000 , activation=\"relu\",kernel_regularizer=l2(0.0001)),#kernel_initializer=\"he_normal\", input_shape=train_X.shape[1:]),\n",
    "    layers.Dense(500 , activation=\"relu\",kernel_regularizer=l2(0.0001)),#kernel_initializer=\"he_normal\", input_shape=train_X.shape[1:]),\n",
    "    layers.Dense(200 , activation=\"relu\",kernel_regularizer=l2(0.0001)),# kernel_initializer=\"he_normal\",input_shape=(8,32)),\n",
    "    layers.Dense(100 , activation=\"relu\",kernel_regularizer=l2(0.0001)),# kernel_initializer=\"he_normal\",input_shape=train_X.shape[1:]),#\n",
    "    layers.Dense(50  , activation=\"relu\",kernel_regularizer=l2(0.0001)),# kernel_initializer=\"he_normal\",input_shape=train_X.shape[1:]),#\n",
    "    layers.Dense(20  , activation=\"relu\",kernel_regularizer=l2(0.0001)),# kernel_initializer=\"he_normal\",input_shape=train_X.shape[1:]),#\n",
    "    layers.Dense(1)])#,kernel_initializer=\"he_normal\")])\n"
   ]
  },
  {
   "cell_type": "code",
   "execution_count": null,
   "id": "5b896705",
   "metadata": {},
   "outputs": [],
   "source": [
    "opt = tf.keras.optimizers.Adam(learning_rate=0.0001)\n",
    "model.compile(loss=\"mean_squared_error\", optimizer=opt,metrics=['mae'])\n",
    "history = model.fit(train_X,train_Y, validation_data=(test_X,test_Y),epochs=20,batch_size = 35, shuffle=True)"
   ]
  },
  {
   "cell_type": "code",
   "execution_count": null,
   "id": "1f77c86e",
   "metadata": {},
   "outputs": [],
   "source": [
    "plt.scatter(model.predict(train_X),train_Y)\n",
    "plt.xlabel(\"Prediction\")\n",
    "plt.ylabel(\"train Y\")\n",
    "plt.show()"
   ]
  },
  {
   "cell_type": "code",
   "execution_count": null,
   "id": "79cfb445",
   "metadata": {
    "scrolled": true
   },
   "outputs": [],
   "source": [
    "plt.scatter(model.predict(test_X),test_Y)\n",
    "plt.xlabel(\"Prediction\")\n",
    "plt.ylabel(\"test Y\")\n",
    "plt.show()"
   ]
  },
  {
   "cell_type": "code",
   "execution_count": 24,
   "id": "a56adace",
   "metadata": {},
   "outputs": [],
   "source": [
    "model = tf.keras.models.Sequential([\n",
    "    layers.Conv1D(filters=8, kernel_size=4, padding='same', activation=\"relu\", kernel_regularizer=l1(0.001),input_shape=(train_X.shape[1:])),\n",
    "    layers.MaxPooling1D(pool_size=1),#padding='same'),\n",
    "    layers.Conv1D(filters=16, kernel_size=3, padding='same', activation=\"relu\", kernel_regularizer=l1(0.001),input_shape=(train_X.shape[1:])),\n",
    "    layers.MaxPooling1D(pool_size=1),#padding='same'),\n",
    "    layers.Conv1D(filters=32, kernel_size=3, padding='same', activation=\"relu\", kernel_regularizer=l1(0.001),input_shape=(train_X.shape[1:])),\n",
    "    layers.MaxPooling1D(pool_size=1),#padding='same'),\n",
    "    layers.Flatten(),\n",
    "#    layers.Dense(1000 , activation=\"relu\",kernel_regularizer=l2(0.0001)),#kernel_initializer=\"he_normal\", input_shape=train_X.shape[1:]),\n",
    "#    layers.Dense(500 , activation=\"relu\",kernel_regularizer=l2(0.0001)),#kernel_initializer=\"he_normal\", input_shape=train_X.shape[1:]),\n",
    "    layers.Dense(200 , activation=\"relu\",kernel_regularizer=l2(0.001)),# kernel_initializer=\"he_normal\",input_shape=(8,32)),\n",
    "    layers.Dense(100 , activation=\"relu\",kernel_regularizer=l2(0.001)),# kernel_initializer=\"he_normal\",input_shape=train_X.shape[1:]),#\n",
    "    layers.Dense(50  , activation=\"relu\",kernel_regularizer=l2(0.001)),# kernel_initializer=\"he_normal\",input_shape=train_X.shape[1:]),#\n",
    "    layers.Dense(20  , activation=\"relu\",kernel_regularizer=l2(0.001)),# kernel_initializer=\"he_normal\",input_shape=train_X.shape[1:]),#\n",
    "    layers.Dense(1)])#,kernel_initializer=\"he_normal\")])"
   ]
  },
  {
   "cell_type": "code",
   "execution_count": 25,
   "id": "82813bf1",
   "metadata": {},
   "outputs": [
    {
     "name": "stdout",
     "output_type": "stream",
     "text": [
      "Model: \"sequential_5\"\n",
      "_________________________________________________________________\n",
      "Layer (type)                 Output Shape              Param #   \n",
      "=================================================================\n",
      "conv1d_15 (Conv1D)           (None, 1, 8)              50440     \n",
      "_________________________________________________________________\n",
      "max_pooling1d_15 (MaxPooling (None, 1, 8)              0         \n",
      "_________________________________________________________________\n",
      "conv1d_16 (Conv1D)           (None, 1, 16)             400       \n",
      "_________________________________________________________________\n",
      "max_pooling1d_16 (MaxPooling (None, 1, 16)             0         \n",
      "_________________________________________________________________\n",
      "conv1d_17 (Conv1D)           (None, 1, 32)             1568      \n",
      "_________________________________________________________________\n",
      "max_pooling1d_17 (MaxPooling (None, 1, 32)             0         \n",
      "_________________________________________________________________\n",
      "flatten_5 (Flatten)          (None, 32)                0         \n",
      "_________________________________________________________________\n",
      "dense_25 (Dense)             (None, 200)               6600      \n",
      "_________________________________________________________________\n",
      "dense_26 (Dense)             (None, 100)               20100     \n",
      "_________________________________________________________________\n",
      "dense_27 (Dense)             (None, 50)                5050      \n",
      "_________________________________________________________________\n",
      "dense_28 (Dense)             (None, 20)                1020      \n",
      "_________________________________________________________________\n",
      "dense_29 (Dense)             (None, 1)                 21        \n",
      "=================================================================\n",
      "Total params: 85,199\n",
      "Trainable params: 85,199\n",
      "Non-trainable params: 0\n",
      "_________________________________________________________________\n"
     ]
    }
   ],
   "source": [
    "model.summary()"
   ]
  },
  {
   "cell_type": "code",
   "execution_count": 26,
   "id": "4c232086",
   "metadata": {},
   "outputs": [
    {
     "name": "stdout",
     "output_type": "stream",
     "text": [
      "Epoch 1/20\n",
      "1286/1286 [==============================] - 3s 2ms/step - loss: 1408.4625 - mae: 27.5062 - val_loss: 455.2719 - val_mae: 16.1484\n",
      "Epoch 2/20\n",
      "1286/1286 [==============================] - 2s 2ms/step - loss: 421.3835 - mae: 15.4396 - val_loss: 406.4910 - val_mae: 15.2501\n",
      "Epoch 3/20\n",
      "1286/1286 [==============================] - 2s 2ms/step - loss: 393.5063 - mae: 14.8629 - val_loss: 392.3942 - val_mae: 14.8982\n",
      "Epoch 4/20\n",
      "1286/1286 [==============================] - 2s 2ms/step - loss: 382.1549 - mae: 14.6243 - val_loss: 385.1501 - val_mae: 14.7767\n",
      "Epoch 5/20\n",
      "1286/1286 [==============================] - 2s 2ms/step - loss: 375.1367 - mae: 14.4764 - val_loss: 384.7438 - val_mae: 14.6842\n",
      "Epoch 6/20\n",
      "1286/1286 [==============================] - 2s 2ms/step - loss: 370.6349 - mae: 14.3674 - val_loss: 380.5046 - val_mae: 14.7057\n",
      "Epoch 7/20\n",
      "1286/1286 [==============================] - 2s 2ms/step - loss: 367.1219 - mae: 14.3094 - val_loss: 379.7030 - val_mae: 14.6574\n",
      "Epoch 8/20\n",
      "1286/1286 [==============================] - 2s 2ms/step - loss: 363.8377 - mae: 14.2392 - val_loss: 378.9232 - val_mae: 14.6544\n",
      "Epoch 9/20\n",
      "1286/1286 [==============================] - 2s 2ms/step - loss: 361.9694 - mae: 14.2079 - val_loss: 379.7145 - val_mae: 14.5937\n",
      "Epoch 10/20\n",
      "1286/1286 [==============================] - 2s 2ms/step - loss: 359.8207 - mae: 14.1653 - val_loss: 379.6274 - val_mae: 14.6117\n",
      "Epoch 11/20\n",
      "1286/1286 [==============================] - 2s 2ms/step - loss: 358.0053 - mae: 14.1298 - val_loss: 379.2180 - val_mae: 14.6610\n",
      "Epoch 12/20\n",
      "1286/1286 [==============================] - 2s 2ms/step - loss: 355.7055 - mae: 14.0828 - val_loss: 381.6943 - val_mae: 14.7958\n",
      "Epoch 13/20\n",
      "1286/1286 [==============================] - 2s 2ms/step - loss: 354.5977 - mae: 14.0521 - val_loss: 379.4578 - val_mae: 14.7045\n",
      "Epoch 14/20\n",
      "1286/1286 [==============================] - 2s 2ms/step - loss: 352.8723 - mae: 14.0275 - val_loss: 379.7082 - val_mae: 14.6726\n",
      "Epoch 15/20\n",
      "1286/1286 [==============================] - 2s 2ms/step - loss: 351.4312 - mae: 13.9925 - val_loss: 384.9038 - val_mae: 14.6659\n",
      "Epoch 16/20\n",
      "1286/1286 [==============================] - 2s 2ms/step - loss: 350.2045 - mae: 13.9815 - val_loss: 379.6437 - val_mae: 14.6311\n",
      "Epoch 17/20\n",
      "1286/1286 [==============================] - 2s 2ms/step - loss: 348.3598 - mae: 13.9395 - val_loss: 380.6739 - val_mae: 14.6666\n",
      "Epoch 18/20\n",
      "1286/1286 [==============================] - 2s 2ms/step - loss: 346.9334 - mae: 13.9044 - val_loss: 384.3364 - val_mae: 14.7675\n",
      "Epoch 19/20\n",
      "1286/1286 [==============================] - 2s 2ms/step - loss: 346.3221 - mae: 13.8980 - val_loss: 381.8840 - val_mae: 14.6295\n",
      "Epoch 20/20\n",
      "1286/1286 [==============================] - 2s 2ms/step - loss: 344.5219 - mae: 13.8595 - val_loss: 384.0631 - val_mae: 14.7140\n"
     ]
    }
   ],
   "source": [
    "opt = tf.keras.optimizers.Adam(learning_rate=0.0001)\n",
    "model.compile(loss=\"mean_squared_error\", optimizer=opt,metrics=['mae'])\n",
    "history = model.fit(train_X,train_Y, validation_data=(test_X,test_Y),epochs=20,batch_size = 35, shuffle=True)"
   ]
  },
  {
   "cell_type": "code",
   "execution_count": 27,
   "id": "59f2246e",
   "metadata": {},
   "outputs": [
    {
     "data": {
      "image/png": "[encoded data removed]",
      "text/plain": [
       "<Figure size 432x288 with 1 Axes>"
      ]
     },
     "metadata": {
      "needs_background": "light"
     },
     "output_type": "display_data"
    }
   ],
   "source": [
    "plt.scatter(model.predict(train_X),train_Y)\n",
    "plt.xlabel(\"Prediction\")\n",
    "plt.ylabel(\"train Y\")\n",
    "plt.show()"
   ]
  },
  {
   "cell_type": "code",
   "execution_count": 28,
   "id": "d8a6e31f",
   "metadata": {},
   "outputs": [
    {
     "data": {
      "image/png": "[encoded data removed]",
      "text/plain": [
       "<Figure size 432x288 with 1 Axes>"
      ]
     },
     "metadata": {
      "needs_background": "light"
     },
     "output_type": "display_data"
    }
   ],
   "source": [
    "plt.scatter(model.predict(test_X),test_Y)\n",
    "plt.xlabel(\"Prediction\")\n",
    "plt.ylabel(\"test Y\")\n",
    "plt.show()"
   ]
  },
  {
   "cell_type": "code",
   "execution_count": 71,
   "id": "7ad7ab00",
   "metadata": {},
   "outputs": [],
   "source": [
    "model = tf.keras.models.Sequential([\n",
    "    layers.Conv1D(filters=8, kernel_size=4, padding='same', activation=\"relu\", kernel_regularizer=l1(0.001),input_shape=(train_X.shape[1:])),\n",
    "    layers.AvgPool1D(pool_size=1),#padding='same'),\n",
    "    layers.Conv1D(filters=16, kernel_size=3, padding='same', activation=\"relu\", kernel_regularizer=l1(0.001),input_shape=(train_X.shape[1:])),\n",
    "    layers.AvgPool1D(pool_size=1),#padding='same'),\n",
    "    layers.Conv1D(filters=32, kernel_size=3, padding='same', activation=\"relu\", kernel_regularizer=l1(0.001),input_shape=(train_X.shape[1:])),\n",
    "    layers.AvgPool1D(pool_size=1),#padding='same'),\n",
    "    layers.Flatten(),\n",
    "#    layers.Dense(1000 , activation=\"relu\",kernel_regularizer=l2(0.0001)),#kernel_initializer=\"he_normal\", input_shape=train_X.shape[1:]),\n",
    "    layers.Dense(500 , activation=\"relu\",kernel_regularizer=l1(0.0001)),#kernel_initializer=\"he_normal\", input_shape=train_X.shape[1:]),\n",
    "    layers.Dense(200 , activation=\"relu\",kernel_regularizer=l1(0.0001)),# kernel_initializer=\"he_normal\",input_shape=(8,32)),\n",
    "    layers.Dense(100 , activation=\"relu\",kernel_regularizer=l1(0.0001)),# kernel_initializer=\"he_normal\",input_shape=train_X.shape[1:]),#\n",
    "    layers.Dense(50  , activation=\"relu\",kernel_regularizer=l1(0.0001)),# kernel_initializer=\"he_normal\",input_shape=train_X.shape[1:]),#\n",
    "    layers.Dense(20  , activation=\"relu\",kernel_regularizer=l1(0.0001)),# kernel_initializer=\"he_normal\",input_shape=train_X.shape[1:]),#\n",
    "    layers.Dense(1)])#,kernel_initializer=\"he_normal\")])"
   ]
  },
  {
   "cell_type": "code",
   "execution_count": 75,
   "id": "417a5c37",
   "metadata": {},
   "outputs": [
    {
     "name": "stdout",
     "output_type": "stream",
     "text": [
      "Epoch 1/20\n",
      "1286/1286 [==============================] - 5s 3ms/step - loss: 338.9272 - mae: 13.9191 - val_loss: 389.5329 - val_mae: 14.8816\n",
      "Epoch 2/20\n",
      "1286/1286 [==============================] - 4s 3ms/step - loss: 336.8462 - mae: 13.8753 - val_loss: 395.0723 - val_mae: 14.9548\n",
      "Epoch 3/20\n",
      "1286/1286 [==============================] - 4s 3ms/step - loss: 335.1342 - mae: 13.8453 - val_loss: 390.3499 - val_mae: 14.9328\n",
      "Epoch 4/20\n",
      "1286/1286 [==============================] - 4s 3ms/step - loss: 335.3544 - mae: 13.8400 - val_loss: 397.5270 - val_mae: 15.0726\n",
      "Epoch 5/20\n",
      "1286/1286 [==============================] - 4s 3ms/step - loss: 332.0773 - mae: 13.7921 - val_loss: 394.4623 - val_mae: 14.9709\n",
      "Epoch 6/20\n",
      "1286/1286 [==============================] - 4s 3ms/step - loss: 332.3001 - mae: 13.7930 - val_loss: 404.9775 - val_mae: 15.2812\n",
      "Epoch 7/20\n",
      "1286/1286 [==============================] - 4s 3ms/step - loss: 331.8267 - mae: 13.7828 - val_loss: 392.6045 - val_mae: 14.9290\n",
      "Epoch 8/20\n",
      "1286/1286 [==============================] - 4s 3ms/step - loss: 329.0974 - mae: 13.7314 - val_loss: 399.4329 - val_mae: 15.1225\n",
      "Epoch 9/20\n",
      "1286/1286 [==============================] - 4s 3ms/step - loss: 329.9511 - mae: 13.7483 - val_loss: 403.9865 - val_mae: 15.1339\n",
      "Epoch 10/20\n",
      "1286/1286 [==============================] - 4s 3ms/step - loss: 328.9690 - mae: 13.7248 - val_loss: 403.3551 - val_mae: 15.1415\n",
      "Epoch 11/20\n",
      "1286/1286 [==============================] - 5s 4ms/step - loss: 325.7853 - mae: 13.6737 - val_loss: 415.8146 - val_mae: 15.2229\n",
      "Epoch 12/20\n",
      "1286/1286 [==============================] - 5s 4ms/step - loss: 325.1483 - mae: 13.6467 - val_loss: 413.8800 - val_mae: 15.1973\n",
      "Epoch 13/20\n",
      "1286/1286 [==============================] - 4s 3ms/step - loss: 325.3304 - mae: 13.6569 - val_loss: 402.1010 - val_mae: 15.1191\n",
      "Epoch 14/20\n",
      "1286/1286 [==============================] - 4s 3ms/step - loss: 325.1931 - mae: 13.6808 - val_loss: 403.6853 - val_mae: 15.1302\n",
      "Epoch 15/20\n",
      "1286/1286 [==============================] - 4s 3ms/step - loss: 323.6256 - mae: 13.6448 - val_loss: 407.9687 - val_mae: 15.2829\n",
      "Epoch 16/20\n",
      "1286/1286 [==============================] - 4s 3ms/step - loss: 322.7627 - mae: 13.6010 - val_loss: 404.1575 - val_mae: 15.1907\n",
      "Epoch 17/20\n",
      "1286/1286 [==============================] - 4s 3ms/step - loss: 322.3870 - mae: 13.6102 - val_loss: 407.6020 - val_mae: 15.1355\n",
      "Epoch 18/20\n",
      "1286/1286 [==============================] - 4s 3ms/step - loss: 321.4002 - mae: 13.5783 - val_loss: 405.2135 - val_mae: 15.1611\n",
      "Epoch 19/20\n",
      "1286/1286 [==============================] - 4s 3ms/step - loss: 321.4245 - mae: 13.5696 - val_loss: 424.5061 - val_mae: 15.6623\n",
      "Epoch 20/20\n",
      "1286/1286 [==============================] - 4s 3ms/step - loss: 319.1293 - mae: 13.5351 - val_loss: 409.3263 - val_mae: 15.1811\n"
     ]
    }
   ],
   "source": [
    "opt = tf.keras.optimizers.Adam(learning_rate=0.001)\n",
    "model.compile(loss=\"mean_squared_error\", optimizer=opt,metrics=['mae'])\n",
    "history = model.fit(train_X,train_Y, validation_data=(test_X,test_Y),epochs=20,batch_size = 35, shuffle=True)"
   ]
  },
  {
   "cell_type": "code",
   "execution_count": 76,
   "id": "0e34c84c",
   "metadata": {},
   "outputs": [
    {
     "data": {
      "image/png": "[encoded data removed]",
      "text/plain": [
       "<Figure size 432x288 with 1 Axes>"
      ]
     },
     "metadata": {
      "needs_background": "light"
     },
     "output_type": "display_data"
    }
   ],
   "source": [
    "plt.scatter(model.predict(train_X),train_Y)\n",
    "plt.xlabel(\"Prediction\")\n",
    "plt.ylabel(\"train Y\")\n",
    "plt.show()"
   ]
  },
  {
   "cell_type": "code",
   "execution_count": 77,
   "id": "23ea666e",
   "metadata": {},
   "outputs": [
    {
     "data": {
      "image/png": "[encoded data removed]",
      "text/plain": [
       "<Figure size 432x288 with 1 Axes>"
      ]
     },
     "metadata": {
      "needs_background": "light"
     },
     "output_type": "display_data"
    }
   ],
   "source": [
    "plt.scatter(model.predict(test_X),test_Y)\n",
    "plt.xlabel(\"Prediction\")\n",
    "plt.ylabel(\"test Y\")\n",
    "plt.show()"
   ]
  },
  {
   "cell_type": "code",
   "execution_count": 167,
   "id": "004f6591",
   "metadata": {},
   "outputs": [],
   "source": [
    "model = tf.keras.models.Sequential([\n",
    "    layers.Conv1D(filters=64, kernel_size=3, padding='same', activation=\"relu\", kernel_regularizer=l1(0.001),input_shape=(train_X.shape[1:])),\n",
    "    layers.Conv1D(filters=64, kernel_size=3, padding='same', activation=\"relu\", kernel_regularizer=l1(0.001)),#input_shape=(train_X.shape[1:])),\n",
    "    layers.AvgPool1D(pool_size=1),\n",
    "#    layers.Conv1D(filters=128, kernel_size=3, padding='same', activation=\"relu\", kernel_regularizer=l1(0.001)),#input_shape=(train_X.shape[1:])),\n",
    "#    layers.MaxPool1D(pool_size=1),\n",
    "    layers.Flatten(),\n",
    "    layers.Dense(500 , activation=\"relu\",kernel_regularizer=l1(0.001)),#kernel_initializer=\"he_normal\", input_shape=train_X.shape[1:]),\n",
    "    layers.Dense(200 , activation=\"relu\",kernel_regularizer=l1(0.001)),# kernel_initializer=\"he_normal\",input_shape=(8,32)),\n",
    "    layers.Dense(100 , activation=\"relu\",kernel_regularizer=l1(0.001)),# kernel_initializer=\"he_normal\",input_shape=train_X.shape[1:]),#\n",
    "    layers.Dense(50  , activation=\"relu\",kernel_regularizer=l1(0.001)),# kernel_initializer=\"he_normal\",input_shape=train_X.shape[1:]),#\n",
    "    layers.Dense(20  , activation=\"relu\",kernel_regularizer=l1(0.001)),# kernel_initializer=\"he_normal\",input_shape=train_X.shape[1:]),#\n",
    "    layers.Dense(1)])#,kernel_initializer=\"he_normal\")]"
   ]
  },
  {
   "cell_type": "code",
   "execution_count": 164,
   "id": "8fb33f6d",
   "metadata": {},
   "outputs": [
    {
     "name": "stdout",
     "output_type": "stream",
     "text": [
      "Epoch 1/20\n",
      "1286/1286 [==============================] - 6s 4ms/step - loss: 843.3120 - mae: 20.2604 - val_loss: 417.8259 - val_mae: 15.1577\n",
      "Epoch 2/20\n",
      "1286/1286 [==============================] - 5s 4ms/step - loss: 396.2118 - mae: 14.7474 - val_loss: 400.1766 - val_mae: 14.9288\n",
      "Epoch 3/20\n",
      "1286/1286 [==============================] - 5s 4ms/step - loss: 380.2444 - mae: 14.4547 - val_loss: 397.4554 - val_mae: 14.8159\n",
      "Epoch 4/20\n",
      "1286/1286 [==============================] - 5s 4ms/step - loss: 368.0795 - mae: 14.2273 - val_loss: 400.0765 - val_mae: 14.8218\n",
      "Epoch 5/20\n",
      "1286/1286 [==============================] - 5s 4ms/step - loss: 360.6530 - mae: 14.0718 - val_loss: 401.7933 - val_mae: 14.8527\n",
      "Epoch 6/20\n",
      "1286/1286 [==============================] - 5s 4ms/step - loss: 354.1755 - mae: 13.9666 - val_loss: 399.0540 - val_mae: 15.0115\n",
      "Epoch 7/20\n",
      "1286/1286 [==============================] - 6s 5ms/step - loss: 346.8163 - mae: 13.8008 - val_loss: 395.0922 - val_mae: 14.8648\n",
      "Epoch 8/20\n",
      "1286/1286 [==============================] - 5s 4ms/step - loss: 341.6242 - mae: 13.7189 - val_loss: 395.3706 - val_mae: 14.7563\n",
      "Epoch 9/20\n",
      "1286/1286 [==============================] - 5s 4ms/step - loss: 335.5397 - mae: 13.5830 - val_loss: 404.1202 - val_mae: 14.8962\n",
      "Epoch 10/20\n",
      "1286/1286 [==============================] - 5s 4ms/step - loss: 329.6996 - mae: 13.4948 - val_loss: 407.9408 - val_mae: 14.9403\n",
      "Epoch 11/20\n",
      "1286/1286 [==============================] - 5s 4ms/step - loss: 325.2991 - mae: 13.3900 - val_loss: 402.5360 - val_mae: 14.9007\n",
      "Epoch 12/20\n",
      "1286/1286 [==============================] - 7s 5ms/step - loss: 320.0607 - mae: 13.2891 - val_loss: 407.9918 - val_mae: 15.0675\n",
      "Epoch 13/20\n",
      "1286/1286 [==============================] - 6s 4ms/step - loss: 314.6191 - mae: 13.1876 - val_loss: 413.0339 - val_mae: 15.1428\n",
      "Epoch 14/20\n",
      "1286/1286 [==============================] - 6s 4ms/step - loss: 309.3723 - mae: 13.0642 - val_loss: 410.7183 - val_mae: 15.0112\n",
      "Epoch 15/20\n",
      "1286/1286 [==============================] - 5s 4ms/step - loss: 305.1145 - mae: 12.9954 - val_loss: 414.0483 - val_mae: 15.1258\n",
      "Epoch 16/20\n",
      "1286/1286 [==============================] - 5s 4ms/step - loss: 299.4926 - mae: 12.8792 - val_loss: 423.8218 - val_mae: 15.3428\n",
      "Epoch 17/20\n",
      "1286/1286 [==============================] - 5s 4ms/step - loss: 294.7468 - mae: 12.7603 - val_loss: 419.6694 - val_mae: 15.1974\n",
      "Epoch 18/20\n",
      "1286/1286 [==============================] - 5s 4ms/step - loss: 289.6620 - mae: 12.6677 - val_loss: 429.2962 - val_mae: 15.4044\n",
      "Epoch 19/20\n",
      "1286/1286 [==============================] - 5s 4ms/step - loss: 285.3558 - mae: 12.5674 - val_loss: 432.6964 - val_mae: 15.5530\n",
      "Epoch 20/20\n",
      "1286/1286 [==============================] - 5s 4ms/step - loss: 280.0470 - mae: 12.4468 - val_loss: 431.8645 - val_mae: 15.4688\n"
     ]
    }
   ],
   "source": [
    "opt = tf.keras.optimizers.Adam(learning_rate=0.0001)\n",
    "model.compile(loss=\"mean_squared_error\", optimizer=opt,metrics=['mae'])\n",
    "history = model.fit(train_X,train_Y, validation_data=(test_X,test_Y),epochs=20,batch_size = 35, shuffle=True)"
   ]
  },
  {
   "cell_type": "code",
   "execution_count": 165,
   "id": "b0cd3c8b",
   "metadata": {},
   "outputs": [
    {
     "data": {
      "image/png": "[encoded data removed]",
      "text/plain": [
       "<Figure size 432x288 with 1 Axes>"
      ]
     },
     "metadata": {
      "needs_background": "light"
     },
     "output_type": "display_data"
    }
   ],
   "source": [
    "plt.scatter(model.predict(train_X),train_Y)\n",
    "plt.xlabel(\"Prediction\")\n",
    "plt.ylabel(\"train Y\")\n",
    "plt.show()"
   ]
  },
  {
   "cell_type": "code",
   "execution_count": 166,
   "id": "82f72164",
   "metadata": {},
   "outputs": [
    {
     "data": {
      "image/png": "[encoded data removed]",
      "text/plain": [
       "<Figure size 432x288 with 1 Axes>"
      ]
     },
     "metadata": {
      "needs_background": "light"
     },
     "output_type": "display_data"
    }
   ],
   "source": [
    "plt.scatter(model.predict(test_X),test_Y)\n",
    "plt.xlabel(\"Prediction\")\n",
    "plt.ylabel(\"test Y\")\n",
    "plt.show()"
   ]
  },
  {
   "cell_type": "code",
   "execution_count": null,
   "id": "05b3e393",
   "metadata": {},
   "outputs": [],
   "source": []
  }
 ],
 "metadata": {
  "kernelspec": {
   "display_name": "Python 3",
   "language": "python",
   "name": "python3"
  },
  "language_info": {
   "codemirror_mode": {
    "name": "ipython",
    "version": 3
   },
   "file_extension": ".py",
   "mimetype": "text/x-python",
   "name": "python",
   "nbconvert_exporter": "python",
   "pygments_lexer": "ipython3",
   "version": "3.8.5"
  }
 },
 "nbformat": 4,
 "nbformat_minor": 5
}
